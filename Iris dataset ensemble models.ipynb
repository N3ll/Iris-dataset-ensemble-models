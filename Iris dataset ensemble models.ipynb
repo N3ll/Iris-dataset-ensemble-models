{
 "cells": [
  {
   "cell_type": "code",
   "execution_count": 1,
   "metadata": {},
   "outputs": [],
   "source": [
    "from sklearn import datasets\n",
    "\n",
    "iris = datasets.load_iris()\n",
    "X = iris.data\n",
    "y = iris.target"
   ]
  },
  {
   "cell_type": "code",
   "execution_count": 2,
   "metadata": {},
   "outputs": [
    {
     "name": "stdout",
     "output_type": "stream",
     "text": [
      "CV_MSE: 0.04\n",
      "Train MSE 0.01\n",
      "Test MSE 0.07\n",
      "\n",
      "\n",
      "[1 2 1 1 1 1 1 1 1 0 0 0 0 1 2 2 2 1 2 0 1 0 2 1 2 0 2 2 1 0 1 2 2 1 0 1 2\n",
      " 0 1 2 0 0 2 0 2 2 2 1 1 0 2 0 1 0 0 2 0 2 0 1 1 1 1 0 0 2 2 0 2 2 1 1 0 1\n",
      " 1 1 2 1 1 0 2 0 1 1 2 2 2 0 2 1 2 0 0 2 0 1 2 2 0 1 2 0 1 2 0]\n"
     ]
    }
   ],
   "source": [
    "from sklearn.tree import DecisionTreeClassifier\n",
    "from sklearn.model_selection import train_test_split\n",
    "from sklearn.metrics import mean_squared_error as MSE\n",
    "from sklearn.model_selection import cross_val_score\n",
    "\n",
    "X_train, X_test, y_train, y_test = train_test_split(X,y,test_size=0.3)\n",
    "dt = DecisionTreeClassifier(max_depth=4)\n",
    "\n",
    "#Evaluate the list of MSE obtained by 10-fold CV\n",
    "# Set n_jobs=-1 in order to exploit all CPU cores in computation\n",
    "MSE_CV = -cross_val_score(dt, X_train, y_train, cv=10, scoring ='neg_mean_squared_error', n_jobs=-1)\n",
    "\n",
    "dt.fit(X_train, y_train)\n",
    "y_predict_train = dt.predict(X_train)\n",
    "y_predict_test = dt.predict(X_test)\n",
    "\n",
    "print('CV_MSE: {:.2f}'.format(MSE_CV.mean()))\n",
    "print('Train MSE {:.2f}'.format(MSE(y_train, y_predict_train)))\n",
    "print('Test MSE {:.2f}'.format(MSE(y_test,y_predict_test)))"
   ]
  },
  {
   "cell_type": "code",
   "execution_count": 4,
   "metadata": {},
   "outputs": [
    {
     "name": "stdout",
     "output_type": "stream",
     "text": [
      "Accuracy of Bagging Classifier 0.911\n",
      "Accuracy of Decision Tree 0.844\n"
     ]
    }
   ],
   "source": [
    "from sklearn.ensemble import BaggingClassifier\n",
    "from sklearn.metrics import accuracy_score\n",
    "\n",
    "bc = BaggingClassifier(base_estimator=dt,n_estimators=300)\n",
    "bc.fit(X_train, y_train)\n",
    "y_pred = bc.predict(X_test)\n",
    "\n",
    "accuracy = accuracy_score(y_test, y_pred)\n",
    "print('Accuracy of Bagging Classifier {:.3f}'.format(accuracy))\n",
    "print('Accuracy of Decision Tree {:.3f}'.format(accuracy_score(y_test,y_predict_test)))"
   ]
  },
  {
   "cell_type": "code",
   "execution_count": 5,
   "metadata": {},
   "outputs": [
    {
     "name": "stdout",
     "output_type": "stream",
     "text": [
      "Accuracy score 0.844\n"
     ]
    }
   ],
   "source": [
    "from sklearn.ensemble import AdaBoostClassifier\n",
    "\n",
    "ada = AdaBoostClassifier(base_estimator=dt,n_estimators=100)\n",
    "ada.fit(X_train, y_train)\n",
    "\n",
    "print 'Accuracy score {:.3f}'.format(accuracy_score(y_test,ada.predict(X_test)))\n",
    "\n",
    "# from sklearn.metrics import roc_auc_score\n",
    "# y_pred_prob=ada.predict_proba(X_test)[:,1]\n",
    "# print('ROC AUC score:{:.2f}'.format(roc_auc_score(y_test,y_pred_prob)))"
   ]
  },
  {
   "cell_type": "code",
   "execution_count": 6,
   "metadata": {},
   "outputs": [
    {
     "name": "stdout",
     "output_type": "stream",
     "text": [
      "Test set RMSE of Random Forest: 1.00\n",
      "Accuracy of Random Forest: 0.93\n"
     ]
    },
    {
     "data": {
      "text/plain": [
       "<matplotlib.axes._subplots.AxesSubplot at 0xc2ed2e8>"
      ]
     },
     "execution_count": 6,
     "metadata": {},
     "output_type": "execute_result"
    }
   ],
   "source": [
    "from sklearn.ensemble import RandomForestClassifier\n",
    "\n",
    "rf = RandomForestClassifier(n_estimators=400, min_samples_leaf=0.12)\n",
    "\n",
    "rf.fit(X_train, y_train)\n",
    "\n",
    "y_pred = rf.predict(X_test)\n",
    "\n",
    "rmse_test = MSE(y_test, y_pred)**(1/2)\n",
    "print('Test set RMSE of Random Forest: {:.2f}'.format(rmse_test))\n",
    "print('Accuracy of Random Forest: {:.2f}'.format(accuracy_score(y_test,y_pred)))\n",
    "\n",
    "import matplotlib.pyplot as plt\n",
    "import pandas as pd\n",
    "\n",
    "importances_rf = pd.Series(rf.feature_importances_,index=iris.feature_names)\n",
    "sorted_importances_rf = importances_rf.sort_values()\n",
    "\n",
    "sorted_importances_rf.plot(kind='barh', color='lightgreen')"
   ]
  },
  {
   "cell_type": "code",
   "execution_count": 8,
   "metadata": {},
   "outputs": [
    {
     "name": "stdout",
     "output_type": "stream",
     "text": [
      "              precision    recall  f1-score   support\n",
      "\n",
      "           0       1.00      1.00      1.00        17\n",
      "           1       0.83      1.00      0.91        15\n",
      "           2       1.00      0.77      0.87        13\n",
      "\n",
      "   micro avg       0.93      0.93      0.93        45\n",
      "   macro avg       0.94      0.92      0.93        45\n",
      "weighted avg       0.94      0.93      0.93        45\n",
      "\n"
     ]
    }
   ],
   "source": [
    "from sklearn.metrics import classification_report\n",
    "print classification_report(y_test,rf.predict(X_test))"
   ]
  }
 ],
 "metadata": {
  "kernelspec": {
   "display_name": "Python 3",
   "language": "python",
   "name": "python3"
  },
  "language_info": {
   "codemirror_mode": {
    "name": "ipython",
    "version": 3
   },
   "file_extension": ".py",
   "mimetype": "text/x-python",
   "name": "python",
   "nbconvert_exporter": "python",
   "pygments_lexer": "ipython3",
   "version": "3.7.1"
  }
 },
 "nbformat": 4,
 "nbformat_minor": 2
}
